{
 "cells": [
  {
   "cell_type": "markdown",
   "id": "clean-planner",
   "metadata": {},
   "source": [
    "# HW2 #"
   ]
  },
  {
   "cell_type": "code",
   "execution_count": null,
   "id": "wanted-stanford",
   "metadata": {},
   "outputs": [],
   "source": [
    "import numpy as np\n",
    "import matplotlib.pyplot as plt\n",
    "from scipy.stats import binom"
   ]
  },
  {
   "cell_type": "markdown",
   "id": "unlike-limit",
   "metadata": {},
   "source": [
    "## 2.1 ##\n",
    "\n",
    "Predict heights for 5 individuals."
   ]
  },
  {
   "cell_type": "code",
   "execution_count": null,
   "id": "inner-hello",
   "metadata": {},
   "outputs": [],
   "source": [
    "# Construct predictive model for height from weight.\n"
   ]
  }
 ],
 "metadata": {
  "kernelspec": {
   "display_name": "Python 3",
   "language": "python",
   "name": "python3"
  },
  "language_info": {
   "codemirror_mode": {
    "name": "ipython",
    "version": 3
   },
   "file_extension": ".py",
   "mimetype": "text/x-python",
   "name": "python",
   "nbconvert_exporter": "python",
   "pygments_lexer": "ipython3",
   "version": "3.7.8"
  }
 },
 "nbformat": 4,
 "nbformat_minor": 5
}
